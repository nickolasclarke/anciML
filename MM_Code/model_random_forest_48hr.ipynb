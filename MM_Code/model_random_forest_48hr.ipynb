{
 "cells": [
  {
   "cell_type": "markdown",
   "metadata": {},
   "source": [
    "# Random forest model--48 hr lag"
   ]
  },
  {
   "cell_type": "code",
   "execution_count": 1,
   "metadata": {},
   "outputs": [],
   "source": [
    "import json\n",
    "import csv\n",
    "import pandas as pd\n",
    "pd.options.mode.chained_assignment = None  # default='warn'\n",
    "pd.set_option('display.max_columns', 500)\n",
    "import numpy as np\n",
    "np.seterr(divide='ignore', invalid='ignore')\n",
    "import geopandas as gpd\n",
    "import shapely\n",
    "from shapely.geometry import Point, MultiPoint, Polygon, MultiPolygon\n",
    "from shapely.affinity import scale\n",
    "import matplotlib.pyplot as plt\n",
    "import glob\n",
    "import os\n",
    "import datetime\n",
    "\n",
    "from sklearn.ensemble import RandomForestClassifier\n",
    "from sklearn.ensemble import RandomForestRegressor\n",
    "from sklearn.model_selection import cross_val_score, train_test_split\n"
   ]
  },
  {
   "cell_type": "markdown",
   "metadata": {},
   "source": [
    "# 0. Loading data"
   ]
  },
  {
   "cell_type": "code",
   "execution_count": 2,
   "metadata": {},
   "outputs": [],
   "source": [
    "bids_down = pd.read_csv(\"../data/as_bids_REGDOWN.csv\")\n",
    "bids_up = pd.read_csv(\"../data/as_bids_REGUP.csv\")\n",
    "prices = pd.read_csv(\"../data/AS_price_vol.csv\")\n",
    "plan = pd.read_csv(\"../data/as_plan.csv\")\n",
    "energy = pd.read_csv(\"../data/energy_price.csv\")\n",
    "weather = pd.read_csv(\"../data/weather_forecast_ercot.csv\")\n",
    "gen = pd.read_csv(\"../data/generation.csv\")\n",
    "wind = pd.read_csv(\"../data/wind.csv\")"
   ]
  },
  {
   "cell_type": "markdown",
   "metadata": {},
   "source": [
    "A bit more data cleaning"
   ]
  },
  {
   "cell_type": "code",
   "execution_count": 3,
   "metadata": {},
   "outputs": [],
   "source": [
    "#generation\n",
    "gen['hr_beg'] = gen['hr_beg'].apply(lambda x: x[0:2]) \n",
    "gen.drop(columns=['Imports','Other','ST'], inplace=True)\n",
    "\n",
    "gen['year'] = pd.to_datetime(gen['date']).dt.year\n",
    "gen = gen.loc[gen['year']>2011,:]\n",
    "gen.reset_index(inplace=True, drop=True)\n",
    "gen.drop(columns=['year'], inplace=True)"
   ]
  },
  {
   "cell_type": "code",
   "execution_count": 4,
   "metadata": {},
   "outputs": [],
   "source": [
    "#energy\n",
    "energy.drop_duplicates(subset=['date','hr_beg'], inplace=True)"
   ]
  },
  {
   "cell_type": "code",
   "execution_count": 5,
   "metadata": {},
   "outputs": [],
   "source": [
    "#wind\n",
    "wind.drop(columns=['ACTUAL_SYSTEM_WIDE'], inplace=True)"
   ]
  },
  {
   "cell_type": "code",
   "execution_count": 6,
   "metadata": {},
   "outputs": [],
   "source": [
    "data_frames = [bids_down, bids_up, prices, plan, energy, weather, gen, wind]\n",
    "\n",
    "for i,df in enumerate(data_frames):\n",
    "    df['date'] = pd.to_datetime(df['date']).dt.date\n",
    "    df['hr_beg'] = df['hr_beg'].astype(int)\n",
    "    df.sort_values(by=['date','hr_beg'], inplace=True)\n",
    "    df.drop_duplicates(inplace=True)"
   ]
  },
  {
   "cell_type": "code",
   "execution_count": 7,
   "metadata": {},
   "outputs": [],
   "source": [
    "union = prices.merge(bids_down, how='inner', on=['date','hr_beg'])\n",
    "for dd in [bids_up, plan, energy, weather, gen, wind]:\n",
    "    union = union.merge(dd, how='inner', on=['date','hr_beg'])"
   ]
  },
  {
   "cell_type": "code",
   "execution_count": 8,
   "metadata": {},
   "outputs": [],
   "source": [
    "#dealing with NAs\n",
    "union.fillna(method='bfill',axis=0, inplace=True)\n",
    "union.sort_values(by=['date','hr_beg'], inplace=True)"
   ]
  },
  {
   "cell_type": "markdown",
   "metadata": {},
   "source": [
    "### Processing features"
   ]
  },
  {
   "cell_type": "code",
   "execution_count": 9,
   "metadata": {},
   "outputs": [
    {
     "data": {
      "text/plain": [
       "13.17"
      ]
     },
     "execution_count": 9,
     "metadata": {},
     "output_type": "execute_result"
    }
   ],
   "source": [
    "#Setting spike at 90th percentile price for pre-2018 data\n",
    "spike = np.percentile(union['price_DAH_REGDN'][union['date'] < datetime.date(2018,1,1)], 90)\n",
    "spike"
   ]
  },
  {
   "cell_type": "code",
   "execution_count": 10,
   "metadata": {},
   "outputs": [],
   "source": [
    "cut_labels = ['regular', 'spike']\n",
    "cut_bins = [0, spike, 1000]\n",
    "union['cuts'] = pd.cut(union['price_DAH_REGDN'], bins=cut_bins, labels=cut_labels)"
   ]
  },
  {
   "cell_type": "code",
   "execution_count": 11,
   "metadata": {},
   "outputs": [],
   "source": [
    "#manually dropping correlated columns\n",
    "union.drop(columns = ['price_DAH_busavg','price_DAH_N', 'price_DAH_S', 'price_DAH_W',\n",
    "                      'price_RT15_houston','price_RT15_busavg','price_RT15_houston',\n",
    "                     'price_RT15_N', 'price_RT15_S', 'price_RT15_W','NorthCentral', 'SouthCentral',\n",
    "                      'Southern', 'West','ramp_abs','80th Pctl Bid_REGUP','80th Pctl Bid',\n",
    "                      '60th Pctl Bid_REGUP','60th Pctl Bid'], inplace=True)"
   ]
  },
  {
   "cell_type": "code",
   "execution_count": 12,
   "metadata": {},
   "outputs": [],
   "source": [
    "#adding in weekday/weekend\n",
    "union['dt'] = pd.to_datetime(union['date'].astype(str) + \" \" + union['hr_beg'].astype(str)+ \":00\")\n",
    "\n",
    "#converting back to central time\n",
    "import pytz\n",
    "from pytz import timezone\n",
    "utc = timezone('UTC')\n",
    "union['UTC'] = union['dt'].apply(lambda x: utc.localize(x))\n",
    "tz = timezone('America/Chicago')\n",
    "union['Central'] = union['UTC'].apply(lambda x: x.astimezone(tz))\n",
    "union['hr_central'] = union['Central'].dt.hour\n",
    "union['date_central'] = union['Central'].dt.date\n",
    "union['year'] = union['Central'].dt.year\n",
    "\n",
    "#weekends vs weekdays\n",
    "union['weekday_number'] = union['date_central'].apply(lambda x: x.weekday())\n",
    "union['weekend'] = 0\n",
    "union['weekday'] = 0\n",
    "union['weekend'][union['weekday_number'].isin([5,6])] = 1\n",
    "union['weekday'][union['weekday_number'].isin([0,1,2,3,4])] = 1\n",
    "\n",
    "union.drop(columns=['dt','Central','UTC','weekday_number','hr_beg','date'], inplace=True)"
   ]
  },
  {
   "cell_type": "code",
   "execution_count": 13,
   "metadata": {},
   "outputs": [],
   "source": [
    "def lag_and_concat(union, tar='cuts'):\n",
    "    #separating features that are forecasts, and can be used as-is, and those that have to be lagged\n",
    "    realtime = ['date_central','year','Coast', 'East', 'FarWest', 'North', 'NSPIN_Quantity', 'REGDN_Quantity',\n",
    "                'REGUP_Quantity', 'RRS_Quantity', 'STWPF_SYSTEM_WIDE', 'weekend', 'weekday'] #'West','NorthCentral', 'SouthCentral', 'Southern', \n",
    "    lagged = list(set(union.columns) - set(realtime + [tar] + ['cuts']))\n",
    "\n",
    "    features_realtime = union[realtime]\n",
    "    features_lagged = union[lagged]\n",
    "    target = union[tar]\n",
    "    \n",
    "    #shifting lagged features by 48, and 72 hours\n",
    "\n",
    "    y = features_lagged.shift(48)\n",
    "    y.columns = y.columns+\"_48\"\n",
    "\n",
    "    z =  features_lagged.shift(72)\n",
    "    z.columns = z.columns+\"_72\"\n",
    "\n",
    "    #concatenating\n",
    "    new = pd.concat([y,z,features_realtime,target], axis=1)\n",
    "    new = new.dropna()\n",
    "\n",
    "    new.drop(columns=['hr_central_48'], inplace=True) \n",
    "    \n",
    "    return new"
   ]
  },
  {
   "cell_type": "markdown",
   "metadata": {},
   "source": [
    "# 1. RF Model"
   ]
  },
  {
   "cell_type": "code",
   "execution_count": 14,
   "metadata": {},
   "outputs": [],
   "source": [
    "new = lag_and_concat(union)"
   ]
  },
  {
   "cell_type": "code",
   "execution_count": 15,
   "metadata": {},
   "outputs": [
    {
     "data": {
      "text/plain": [
       "RandomForestClassifier(bootstrap=True, ccp_alpha=0.0, class_weight=None,\n",
       "                       criterion='gini', max_depth=None, max_features='auto',\n",
       "                       max_leaf_nodes=None, max_samples=None,\n",
       "                       min_impurity_decrease=0.0, min_impurity_split=None,\n",
       "                       min_samples_leaf=1, min_samples_split=2,\n",
       "                       min_weight_fraction_leaf=0.0, n_estimators=100,\n",
       "                       n_jobs=None, oob_score=False, random_state=42, verbose=0,\n",
       "                       warm_start=False)"
      ]
     },
     "execution_count": 15,
     "metadata": {},
     "output_type": "execute_result"
    }
   ],
   "source": [
    "X = new[new['year']<2018].drop(columns=['cuts','date_central'])\n",
    "X_test = new[new['year']==2018].drop(columns=['cuts','date_central'])\n",
    "y = new.loc[new['year']<2018,'cuts']\n",
    "y_test = new.loc[new['year']==2018,'cuts']\n",
    "\n",
    "# split between train and validation sets\n",
    "X_train, X_val, y_train, y_val = train_test_split(X, y, random_state = 1, test_size = 0.25)\n",
    "\n",
    "rf_tree = RandomForestClassifier(random_state=42)\n",
    "rf_tree.fit(X_train, y_train)"
   ]
  },
  {
   "cell_type": "code",
   "execution_count": 16,
   "metadata": {},
   "outputs": [],
   "source": [
    "def model_performance(rf_tree, X_test, y_test):\n",
    "    \"\"\"\n",
    "    Takes RF tree, test X's, test y's\n",
    "    Returns percentage of spikes and overall hours correctly predicted\n",
    "    \"\"\"\n",
    "    \n",
    "    y_pred = rf_tree.predict(X_test)\n",
    "    results = pd.DataFrame({\"pred\": y_pred, \n",
    "                            \"test\": y_test, \n",
    "                            \"correct_spike\": (y_pred == y_test) & (y_test == 'spike'),\n",
    "                           \"correct_regular\": (y_pred == y_test) & (y_test == 'regular')})\n",
    "    correct_spikes = sum(results['correct_spike'])/sum(results['test']=='spike')\n",
    "    correct_overall = (sum(results['correct_spike']) + sum(results['correct_regular']))/len(results)\n",
    "    \n",
    "    return correct_spikes, correct_overall"
   ]
  },
  {
   "cell_type": "code",
   "execution_count": 17,
   "metadata": {},
   "outputs": [
    {
     "name": "stdout",
     "output_type": "stream",
     "text": [
      "TRAINING\n",
      "Spikes correctly predicted: 0.4838709677419355\n",
      "Overall hours correctly predicted: 0.9381514145000572\n",
      "TESTING\n",
      "Spikes correctly predicted: 0.31422505307855625\n",
      "Overall hours correctly predicted: 0.9569585569128896\n"
     ]
    }
   ],
   "source": [
    "##Training (validation) score -- for model selection\n",
    "c_val, o_val = model_performance(rf_tree, X_val, y_val)\n",
    "print(\"TRAINING\")\n",
    "print(\"Spikes correctly predicted: \" + str(c_val))\n",
    "print(\"Overall hours correctly predicted: \" + str(o_val))\n",
    "\n",
    "##Testing score\n",
    "c_test, o_test = model_performance(rf_tree, X_test, y_test)\n",
    "print(\"TESTING\")\n",
    "print(\"Spikes correctly predicted: \" + str(c_test))\n",
    "print(\"Overall hours correctly predicted: \" + str(o_test))"
   ]
  },
  {
   "cell_type": "code",
   "execution_count": 18,
   "metadata": {},
   "outputs": [],
   "source": [
    "#relative feature importance\n",
    "def rel_feat_imp(rf_tree):\n",
    "    feature_importance = rf_tree.feature_importances_\n",
    "    feature_importance = 100.0 * (feature_importance / feature_importance.max())\n",
    "    feats = pd.DataFrame({'feature':X_train.columns, 'importance':feature_importance}).sort_values(by='importance', ascending=False).head(15)\n",
    "    return feats"
   ]
  },
  {
   "cell_type": "code",
   "execution_count": 19,
   "metadata": {},
   "outputs": [
    {
     "data": {
      "text/html": [
       "<div>\n",
       "<style scoped>\n",
       "    .dataframe tbody tr th:only-of-type {\n",
       "        vertical-align: middle;\n",
       "    }\n",
       "\n",
       "    .dataframe tbody tr th {\n",
       "        vertical-align: top;\n",
       "    }\n",
       "\n",
       "    .dataframe thead th {\n",
       "        text-align: right;\n",
       "    }\n",
       "</style>\n",
       "<table border=\"1\" class=\"dataframe\">\n",
       "  <thead>\n",
       "    <tr style=\"text-align: right;\">\n",
       "      <th></th>\n",
       "      <th>feature</th>\n",
       "      <th>importance</th>\n",
       "    </tr>\n",
       "  </thead>\n",
       "  <tbody>\n",
       "    <tr>\n",
       "      <th>12</th>\n",
       "      <td>price_DAH_REGDN_48</td>\n",
       "      <td>100.000000</td>\n",
       "    </tr>\n",
       "    <tr>\n",
       "      <th>52</th>\n",
       "      <td>price_DAH_REGDN_72</td>\n",
       "      <td>64.796955</td>\n",
       "    </tr>\n",
       "    <tr>\n",
       "      <th>88</th>\n",
       "      <td>STWPF_SYSTEM_WIDE</td>\n",
       "      <td>56.508073</td>\n",
       "    </tr>\n",
       "    <tr>\n",
       "      <th>85</th>\n",
       "      <td>REGDN_Quantity</td>\n",
       "      <td>43.823547</td>\n",
       "    </tr>\n",
       "    <tr>\n",
       "      <th>23</th>\n",
       "      <td>vol_DAH_REGDN_48</td>\n",
       "      <td>34.499971</td>\n",
       "    </tr>\n",
       "  </tbody>\n",
       "</table>\n",
       "</div>"
      ],
      "text/plain": [
       "               feature  importance\n",
       "12  price_DAH_REGDN_48  100.000000\n",
       "52  price_DAH_REGDN_72   64.796955\n",
       "88   STWPF_SYSTEM_WIDE   56.508073\n",
       "85      REGDN_Quantity   43.823547\n",
       "23    vol_DAH_REGDN_48   34.499971"
      ]
     },
     "execution_count": 19,
     "metadata": {},
     "output_type": "execute_result"
    }
   ],
   "source": [
    "rel_feat_imp(rf_tree).head(5)"
   ]
  },
  {
   "cell_type": "markdown",
   "metadata": {},
   "source": [
    "# 2. Engineering new features\n",
    "Predicting load, net load, coal, and NGCC generation for target hour. Also adding in average hourly price. Testing random forest vs OLS/lasso; using MSE because we're trying to predict continuous variable. RMSE for RF was ~500 MW, whereas for Ridge/OLS it was ~2000 at all values of alpha from -10-10."
   ]
  },
  {
   "cell_type": "code",
   "execution_count": 20,
   "metadata": {},
   "outputs": [],
   "source": [
    "def feature_maker(tar):\n",
    "    \"\"\"\n",
    "    tar: column name in union df that is the variable you want to predict\n",
    "    depends on union df existing\n",
    "    \"\"\"\n",
    "    #create \n",
    "    new = lag_and_concat(union, tar=tar)\n",
    "    \n",
    "    X = new[new['year']<2018].drop(columns=['date_central',tar])\n",
    "    X_test = new[new['year']==2018].drop(columns=['date_central',tar])\n",
    "    y = new.loc[new['year']<2018,tar]\n",
    "    y_test = new.loc[new['year']==2018,tar]\n",
    "\n",
    "    # split between train and validation sets; fit tree on training data\n",
    "    X_train, X_val, y_train, y_val = train_test_split(X, y, random_state = 1, test_size = 0.25)\n",
    "    rf_tree = RandomForestRegressor(random_state=42)\n",
    "    rf_tree.fit(X_train, y_train)\n",
    "    \n",
    "    # using tree to predict variable across all training, validation, and testing data\n",
    "    y_pred_train = rf_tree.predict(X) \n",
    "    y_pred_test = rf_tree.predict(X_test)\n",
    "    Predicted_Var = np.concatenate([y_pred_train, y_pred_test])\n",
    "\n",
    "    pred_df = new[['date_central','hr_central_72']][new['year']<2019]\n",
    "    pred_df['Predicted_'+tar] = Predicted_Var\n",
    "    \n",
    "    return pred_df"
   ]
  },
  {
   "cell_type": "markdown",
   "metadata": {},
   "source": [
    "### Predicting load"
   ]
  },
  {
   "cell_type": "code",
   "execution_count": 21,
   "metadata": {},
   "outputs": [],
   "source": [
    "Predicted_Load = feature_maker('Load.MW')"
   ]
  },
  {
   "cell_type": "markdown",
   "metadata": {},
   "source": [
    "### Predicting NGCC gen"
   ]
  },
  {
   "cell_type": "code",
   "execution_count": 22,
   "metadata": {},
   "outputs": [],
   "source": [
    "Predicted_NGCC = feature_maker('NGCC')"
   ]
  },
  {
   "cell_type": "markdown",
   "metadata": {},
   "source": [
    "### Predicting coal gen"
   ]
  },
  {
   "cell_type": "code",
   "execution_count": 23,
   "metadata": {},
   "outputs": [],
   "source": [
    "Predicted_Coal = feature_maker(\"Coal\")"
   ]
  },
  {
   "cell_type": "markdown",
   "metadata": {},
   "source": [
    "### Predicting net load"
   ]
  },
  {
   "cell_type": "code",
   "execution_count": 24,
   "metadata": {},
   "outputs": [],
   "source": [
    "Predicted_Netload = feature_maker(\"load_net\")"
   ]
  },
  {
   "cell_type": "markdown",
   "metadata": {},
   "source": [
    "### Average hourly price"
   ]
  },
  {
   "cell_type": "code",
   "execution_count": 25,
   "metadata": {},
   "outputs": [],
   "source": [
    "averages = union[['price_DAH_REGDN','hr_central']].groupby('hr_central').mean().to_dict()['price_DAH_REGDN']"
   ]
  },
  {
   "cell_type": "markdown",
   "metadata": {},
   "source": [
    "### Adding engineered features"
   ]
  },
  {
   "cell_type": "code",
   "execution_count": 26,
   "metadata": {},
   "outputs": [],
   "source": [
    "new_engineered = lag_and_concat(union)"
   ]
  },
  {
   "cell_type": "code",
   "execution_count": 27,
   "metadata": {},
   "outputs": [],
   "source": [
    "Predicted_Load.drop_duplicates(subset=['date_central','hr_central_72'], inplace=True)\n",
    "Predicted_NGCC.drop_duplicates(subset=['date_central','hr_central_72'], inplace=True)\n",
    "Predicted_Coal.drop_duplicates(subset=['date_central','hr_central_72'], inplace=True)\n",
    "Predicted_Netload.drop_duplicates(subset=['date_central','hr_central_72'], inplace=True)"
   ]
  },
  {
   "cell_type": "code",
   "execution_count": 28,
   "metadata": {},
   "outputs": [
    {
     "data": {
      "text/plain": [
       "(43680, 93)"
      ]
     },
     "execution_count": 28,
     "metadata": {},
     "output_type": "execute_result"
    }
   ],
   "source": [
    "new_engineered.shape"
   ]
  },
  {
   "cell_type": "code",
   "execution_count": 29,
   "metadata": {},
   "outputs": [],
   "source": [
    "#adding engineered features\n",
    "new_engineered = new_engineered.merge(Predicted_Load, how=\"left\", on=['date_central','hr_central_72'])\n",
    "new_engineered = new_engineered.merge(Predicted_NGCC, how=\"left\", on=['date_central','hr_central_72'])\n",
    "new_engineered = new_engineered.merge(Predicted_Coal, how=\"left\", on=['date_central','hr_central_72'])\n",
    "new_engineered = new_engineered.merge(Predicted_Netload, how=\"left\", on=['date_central','hr_central_72'])\n",
    "\n",
    "#adding averages\n",
    "new_engineered['AveragePrice'] = new_engineered['hr_central_72'].map(averages)"
   ]
  },
  {
   "cell_type": "code",
   "execution_count": 30,
   "metadata": {},
   "outputs": [
    {
     "data": {
      "text/plain": [
       "(43680, 98)"
      ]
     },
     "execution_count": 30,
     "metadata": {},
     "output_type": "execute_result"
    }
   ],
   "source": [
    "new_engineered.shape"
   ]
  },
  {
   "cell_type": "code",
   "execution_count": 33,
   "metadata": {},
   "outputs": [
    {
     "data": {
      "text/plain": [
       "RandomForestClassifier(bootstrap=True, ccp_alpha=0.0, class_weight=None,\n",
       "                       criterion='gini', max_depth=None, max_features='auto',\n",
       "                       max_leaf_nodes=None, max_samples=None,\n",
       "                       min_impurity_decrease=0.0, min_impurity_split=None,\n",
       "                       min_samples_leaf=1, min_samples_split=2,\n",
       "                       min_weight_fraction_leaf=0.0, n_estimators=100,\n",
       "                       n_jobs=None, oob_score=False, random_state=42, verbose=0,\n",
       "                       warm_start=False)"
      ]
     },
     "execution_count": 33,
     "metadata": {},
     "output_type": "execute_result"
    }
   ],
   "source": [
    "X = new_engineered[new_engineered['year']<2018].drop(columns=['cuts','date_central'])\n",
    "X_test = new_engineered[new_engineered['year']==2018].drop(columns=['cuts','date_central'])\n",
    "y = new_engineered.loc[new_engineered['year']<2018,'cuts']\n",
    "y_test = new_engineered.loc[new_engineered['year']==2018,'cuts']\n",
    "\n",
    "# split between train and validation sets\n",
    "X_train, X_val, y_train, y_val = train_test_split(X, y, random_state = 1, test_size = 0.25)\n",
    "\n",
    "rf_tree = RandomForestClassifier(random_state=42)\n",
    "rf_tree.fit(X_train, y_train)"
   ]
  },
  {
   "cell_type": "code",
   "execution_count": 34,
   "metadata": {},
   "outputs": [
    {
     "name": "stdout",
     "output_type": "stream",
     "text": [
      "TRAINING\n",
      "Spikes correctly predicted: 0.5195852534562212\n",
      "Overall hours correctly predicted: 0.9402130340167221\n",
      "TESTING\n",
      "Spikes correctly predicted: 0.34182590233545646\n",
      "Overall hours correctly predicted: 0.9554743692202307\n"
     ]
    }
   ],
   "source": [
    "##Training (validation) score -- for model selection\n",
    "c_val, o_val = model_performance(rf_tree, X_val, y_val)\n",
    "print(\"TRAINING\")\n",
    "print(\"Spikes correctly predicted: \" + str(c_val))\n",
    "print(\"Overall hours correctly predicted: \" + str(o_val))\n",
    "\n",
    "##Testing score\n",
    "c_test, o_test = model_performance(rf_tree, X_test, y_test)\n",
    "print(\"TESTING\")\n",
    "print(\"Spikes correctly predicted: \" + str(c_test))\n",
    "print(\"Overall hours correctly predicted: \" + str(o_test))"
   ]
  },
  {
   "cell_type": "code",
   "execution_count": 35,
   "metadata": {},
   "outputs": [
    {
     "data": {
      "text/html": [
       "<div>\n",
       "<style scoped>\n",
       "    .dataframe tbody tr th:only-of-type {\n",
       "        vertical-align: middle;\n",
       "    }\n",
       "\n",
       "    .dataframe tbody tr th {\n",
       "        vertical-align: top;\n",
       "    }\n",
       "\n",
       "    .dataframe thead th {\n",
       "        text-align: right;\n",
       "    }\n",
       "</style>\n",
       "<table border=\"1\" class=\"dataframe\">\n",
       "  <thead>\n",
       "    <tr style=\"text-align: right;\">\n",
       "      <th></th>\n",
       "      <th>feature</th>\n",
       "      <th>importance</th>\n",
       "    </tr>\n",
       "  </thead>\n",
       "  <tbody>\n",
       "    <tr>\n",
       "      <th>12</th>\n",
       "      <td>price_DAH_REGDN_48</td>\n",
       "      <td>100.000000</td>\n",
       "    </tr>\n",
       "    <tr>\n",
       "      <th>92</th>\n",
       "      <td>Predicted_NGCC</td>\n",
       "      <td>73.766758</td>\n",
       "    </tr>\n",
       "    <tr>\n",
       "      <th>52</th>\n",
       "      <td>price_DAH_REGDN_72</td>\n",
       "      <td>53.904780</td>\n",
       "    </tr>\n",
       "    <tr>\n",
       "      <th>94</th>\n",
       "      <td>Predicted_load_net</td>\n",
       "      <td>53.355879</td>\n",
       "    </tr>\n",
       "    <tr>\n",
       "      <th>85</th>\n",
       "      <td>REGDN_Quantity</td>\n",
       "      <td>42.828526</td>\n",
       "    </tr>\n",
       "  </tbody>\n",
       "</table>\n",
       "</div>"
      ],
      "text/plain": [
       "               feature  importance\n",
       "12  price_DAH_REGDN_48  100.000000\n",
       "92      Predicted_NGCC   73.766758\n",
       "52  price_DAH_REGDN_72   53.904780\n",
       "94  Predicted_load_net   53.355879\n",
       "85      REGDN_Quantity   42.828526"
      ]
     },
     "execution_count": 35,
     "metadata": {},
     "output_type": "execute_result"
    }
   ],
   "source": [
    "feats = rel_feat_imp(rf_tree)\n",
    "feats.head(5)"
   ]
  },
  {
   "cell_type": "markdown",
   "metadata": {},
   "source": [
    "# 3. Model with downselected features"
   ]
  },
  {
   "cell_type": "code",
   "execution_count": 36,
   "metadata": {},
   "outputs": [],
   "source": [
    "#from sklearn.feature_selection import RFECV\n",
    "#selector = RFECV(rf_tree, step=1, cv=5)\n",
    "#selector = selector.fit(X_train, y_train) -- would be ideal, but takes too much time\n",
    "#selector.ranking_"
   ]
  },
  {
   "cell_type": "code",
   "execution_count": 39,
   "metadata": {},
   "outputs": [],
   "source": [
    "features = feats['feature']\n",
    "simpler = new_engineered.loc[:,features[:20]]\n",
    "simpler['cuts'] = new_engineered['cuts']\n",
    "simpler['year'] = new_engineered['year']"
   ]
  },
  {
   "cell_type": "code",
   "execution_count": 40,
   "metadata": {},
   "outputs": [
    {
     "data": {
      "text/plain": [
       "RandomForestClassifier(bootstrap=True, ccp_alpha=0.0, class_weight=None,\n",
       "                       criterion='gini', max_depth=None, max_features='auto',\n",
       "                       max_leaf_nodes=None, max_samples=None,\n",
       "                       min_impurity_decrease=0.0, min_impurity_split=None,\n",
       "                       min_samples_leaf=1, min_samples_split=2,\n",
       "                       min_weight_fraction_leaf=0.0, n_estimators=100,\n",
       "                       n_jobs=None, oob_score=False, random_state=42, verbose=0,\n",
       "                       warm_start=False)"
      ]
     },
     "execution_count": 40,
     "metadata": {},
     "output_type": "execute_result"
    }
   ],
   "source": [
    "X = simpler[simpler['year']<2018].drop(columns=['cuts'])\n",
    "X_test = simpler[simpler['year']==2018].drop(columns=['cuts'])\n",
    "y = simpler.loc[simpler['year']<2018,'cuts']\n",
    "y_test = simpler.loc[simpler['year']==2018,'cuts']\n",
    "\n",
    "# split between train and validation sets\n",
    "X_train, X_val, y_train, y_val = train_test_split(X, y, random_state = 1, test_size = 0.25)\n",
    "rf_tree = RandomForestClassifier(random_state=42)\n",
    "rf_tree.fit(X_train, y_train)"
   ]
  },
  {
   "cell_type": "code",
   "execution_count": 41,
   "metadata": {},
   "outputs": [
    {
     "name": "stdout",
     "output_type": "stream",
     "text": [
      "TRAINING\n",
      "Spikes correctly predicted: 0.5276497695852534\n",
      "Overall hours correctly predicted: 0.93643339823617\n",
      "TESTING\n",
      "Spikes correctly predicted: 0.4607218683651805\n",
      "Overall hours correctly predicted: 0.9562735472085855\n"
     ]
    }
   ],
   "source": [
    "##Training (validation) score -- for model selection\n",
    "c_val, o_val = model_performance(rf_tree, X_val, y_val)\n",
    "print(\"TRAINING\")\n",
    "print(\"Spikes correctly predicted: \" + str(c_val))\n",
    "print(\"Overall hours correctly predicted: \" + str(o_val))\n",
    "\n",
    "##Testing score\n",
    "c_test, o_test = model_performance(rf_tree, X_test, y_test)\n",
    "print(\"TESTING\")\n",
    "print(\"Spikes correctly predicted: \" + str(c_test))\n",
    "print(\"Overall hours correctly predicted: \" + str(o_test))"
   ]
  },
  {
   "cell_type": "code",
   "execution_count": 42,
   "metadata": {},
   "outputs": [
    {
     "data": {
      "text/html": [
       "<div>\n",
       "<style scoped>\n",
       "    .dataframe tbody tr th:only-of-type {\n",
       "        vertical-align: middle;\n",
       "    }\n",
       "\n",
       "    .dataframe tbody tr th {\n",
       "        vertical-align: top;\n",
       "    }\n",
       "\n",
       "    .dataframe thead th {\n",
       "        text-align: right;\n",
       "    }\n",
       "</style>\n",
       "<table border=\"1\" class=\"dataframe\">\n",
       "  <thead>\n",
       "    <tr style=\"text-align: right;\">\n",
       "      <th></th>\n",
       "      <th>feature</th>\n",
       "      <th>importance</th>\n",
       "    </tr>\n",
       "  </thead>\n",
       "  <tbody>\n",
       "    <tr>\n",
       "      <th>0</th>\n",
       "      <td>price_DAH_REGDN_48</td>\n",
       "      <td>100.000000</td>\n",
       "    </tr>\n",
       "    <tr>\n",
       "      <th>1</th>\n",
       "      <td>Predicted_NGCC</td>\n",
       "      <td>82.746385</td>\n",
       "    </tr>\n",
       "    <tr>\n",
       "      <th>2</th>\n",
       "      <td>price_DAH_REGDN_72</td>\n",
       "      <td>70.025002</td>\n",
       "    </tr>\n",
       "    <tr>\n",
       "      <th>3</th>\n",
       "      <td>Predicted_load_net</td>\n",
       "      <td>55.636740</td>\n",
       "    </tr>\n",
       "    <tr>\n",
       "      <th>4</th>\n",
       "      <td>REGDN_Quantity</td>\n",
       "      <td>48.043331</td>\n",
       "    </tr>\n",
       "  </tbody>\n",
       "</table>\n",
       "</div>"
      ],
      "text/plain": [
       "              feature  importance\n",
       "0  price_DAH_REGDN_48  100.000000\n",
       "1      Predicted_NGCC   82.746385\n",
       "2  price_DAH_REGDN_72   70.025002\n",
       "3  Predicted_load_net   55.636740\n",
       "4      REGDN_Quantity   48.043331"
      ]
     },
     "execution_count": 42,
     "metadata": {},
     "output_type": "execute_result"
    }
   ],
   "source": [
    "rel_feat_imp(rf_tree).head(5)"
   ]
  },
  {
   "cell_type": "markdown",
   "metadata": {},
   "source": [
    "# Tuning hyperparameters\n",
    "Could use grid search, but dataset far too big"
   ]
  },
  {
   "cell_type": "code",
   "execution_count": 295,
   "metadata": {},
   "outputs": [],
   "source": [
    "from sklearn.model_selection import validation_curve"
   ]
  },
  {
   "cell_type": "code",
   "execution_count": 299,
   "metadata": {},
   "outputs": [],
   "source": [
    "#1. testing number of estimators (number of trees in the forest; default = 100...changed from 10)\n",
    "num_est = [1,2,4,8,16,32,64,128,256]\n",
    "train_scores, valid_score = validation_curve(RandomForestClassifier(),\n",
    "                                X, y, param_name = 'n_estimators', \n",
    "                                param_range = num_est, cv = 3)"
   ]
  },
  {
   "cell_type": "code",
   "execution_count": 314,
   "metadata": {},
   "outputs": [
    {
     "data": {
      "text/plain": [
       "Text(0.5, 1.0, 'n_estimators')"
      ]
     },
     "execution_count": 314,
     "metadata": {},
     "output_type": "execute_result"
    },
    {
     "data": {
      "image/png": "[encoded data removed]",
      "text/plain": [
       "<Figure size 432x288 with 1 Axes>"
      ]
     },
     "metadata": {
      "needs_background": "light"
     },
     "output_type": "display_data"
    }
   ],
   "source": [
    "plt.plot(train_scores.mean(axis=1), label=\"train\")\n",
    "plt.plot(valid_score.mean(axis=1), label=\"valid\")\n",
    "plt.title('n_estimators')"
   ]
  },
  {
   "cell_type": "code",
   "execution_count": 315,
   "metadata": {},
   "outputs": [],
   "source": [
    "#2. testing max_depth (default: none)\n",
    "num_est = [5,10,15,20,25,30]\n",
    "train_scores, valid_score = validation_curve(RandomForestClassifier(),\n",
    "                                X, y, param_name = 'max_depth', \n",
    "                                param_range = num_est, cv = 3)"
   ]
  },
  {
   "cell_type": "code",
   "execution_count": 316,
   "metadata": {},
   "outputs": [
    {
     "data": {
      "text/plain": [
       "Text(0.5, 1.0, 'max_depth')"
      ]
     },
     "execution_count": 316,
     "metadata": {},
     "output_type": "execute_result"
    },
    {
     "data": {
      "image/png": "[encoded data removed]",
      "text/plain": [
       "<Figure size 432x288 with 1 Axes>"
      ]
     },
     "metadata": {
      "needs_background": "light"
     },
     "output_type": "display_data"
    }
   ],
   "source": [
    "plt.plot(train_scores.mean(axis=1), label=\"train\")\n",
    "plt.plot(valid_score.mean(axis=1), label=\"valid\")\n",
    "plt.title('max_depth')"
   ]
  },
  {
   "cell_type": "code",
   "execution_count": 317,
   "metadata": {},
   "outputs": [
    {
     "name": "stderr",
     "output_type": "stream",
     "text": [
      "/anaconda3/lib/python3.7/site-packages/sklearn/model_selection/_validation.py:536: FitFailedWarning: Estimator fit failed. The score on this train-test partition for these parameters will be set to nan. Details: \n",
      "ValueError: min_samples_split must be an integer greater than 1 or a float in (0.0, 1.0]; got the integer 1\n",
      "\n",
      "  FitFailedWarning)\n",
      "/anaconda3/lib/python3.7/site-packages/sklearn/model_selection/_validation.py:536: FitFailedWarning: Estimator fit failed. The score on this train-test partition for these parameters will be set to nan. Details: \n",
      "ValueError: min_samples_split must be an integer greater than 1 or a float in (0.0, 1.0]; got the integer 1\n",
      "\n",
      "  FitFailedWarning)\n",
      "/anaconda3/lib/python3.7/site-packages/sklearn/model_selection/_validation.py:536: FitFailedWarning: Estimator fit failed. The score on this train-test partition for these parameters will be set to nan. Details: \n",
      "ValueError: min_samples_split must be an integer greater than 1 or a float in (0.0, 1.0]; got the integer 1\n",
      "\n",
      "  FitFailedWarning)\n"
     ]
    }
   ],
   "source": [
    "#3. testing min_samples_split (default: 2)\n",
    "num_est = [1,2,5,10,15]\n",
    "train_scores, valid_score = validation_curve(RandomForestClassifier(),\n",
    "                                X, y, param_name = 'min_samples_split', \n",
    "                                param_range = num_est, cv = 3)"
   ]
  },
  {
   "cell_type": "code",
   "execution_count": 318,
   "metadata": {},
   "outputs": [
    {
     "data": {
      "text/plain": [
       "Text(0.5, 1.0, 'min_samples_split')"
      ]
     },
     "execution_count": 318,
     "metadata": {},
     "output_type": "execute_result"
    },
    {
     "data": {
      "image/png": "[encoded data removed]",
      "text/plain": [
       "<Figure size 432x288 with 1 Axes>"
      ]
     },
     "metadata": {
      "needs_background": "light"
     },
     "output_type": "display_data"
    }
   ],
   "source": [
    "plt.plot(train_scores.mean(axis=1), label=\"train\")\n",
    "plt.plot(valid_score.mean(axis=1), label=\"valid\")\n",
    "plt.title('min_samples_split')"
   ]
  },
  {
   "cell_type": "code",
   "execution_count": 319,
   "metadata": {},
   "outputs": [],
   "source": [
    "#4. min_samples_leaf (default: 1)\n",
    "num_est = [1,2,5,10,15]\n",
    "train_scores, valid_score = validation_curve(RandomForestClassifier(),\n",
    "                                X, y, param_name = 'min_samples_leaf', \n",
    "                                param_range = num_est, cv = 3)"
   ]
  },
  {
   "cell_type": "code",
   "execution_count": 320,
   "metadata": {},
   "outputs": [
    {
     "data": {
      "text/plain": [
       "Text(0.5, 1.0, 'min_samples_leaf')"
      ]
     },
     "execution_count": 320,
     "metadata": {},
     "output_type": "execute_result"
    },
    {
     "data": {
      "image/png": "[encoded data removed]",
      "text/plain": [
       "<Figure size 432x288 with 1 Axes>"
      ]
     },
     "metadata": {
      "needs_background": "light"
     },
     "output_type": "display_data"
    }
   ],
   "source": [
    "plt.plot(train_scores.mean(axis=1), label=\"train\")\n",
    "plt.plot(valid_score.mean(axis=1), label=\"valid\")\n",
    "plt.title('min_samples_leaf')"
   ]
  },
  {
   "cell_type": "code",
   "execution_count": 322,
   "metadata": {},
   "outputs": [],
   "source": [
    "#5. max_features (default = auto (sqrt of n_features))\n",
    "num_est = [1,2,3,4,6,8,10]\n",
    "train_scores, valid_score = validation_curve(RandomForestClassifier(),\n",
    "                                X, y, param_name = 'max_features', \n",
    "                                param_range = num_est, cv = 3)"
   ]
  },
  {
   "cell_type": "code",
   "execution_count": 323,
   "metadata": {},
   "outputs": [
    {
     "data": {
      "text/plain": [
       "Text(0.5, 1.0, 'max_features')"
      ]
     },
     "execution_count": 323,
     "metadata": {},
     "output_type": "execute_result"
    },
    {
     "data": {
      "image/png": "[encoded data removed]",
      "text/plain": [
       "<Figure size 432x288 with 1 Axes>"
      ]
     },
     "metadata": {
      "needs_background": "light"
     },
     "output_type": "display_data"
    }
   ],
   "source": [
    "plt.plot(train_scores.mean(axis=1), label=\"train\")\n",
    "plt.plot(valid_score.mean(axis=1), label=\"valid\")\n",
    "plt.title('max_features')"
   ]
  },
  {
   "cell_type": "code",
   "execution_count": 342,
   "metadata": {},
   "outputs": [
    {
     "name": "stdout",
     "output_type": "stream",
     "text": [
      "Fitting 3 folds for each of 36 candidates, totalling 108 fits\n"
     ]
    },
    {
     "name": "stderr",
     "output_type": "stream",
     "text": [
      "[Parallel(n_jobs=-1)]: Using backend LokyBackend with 4 concurrent workers.\n",
      "[Parallel(n_jobs=-1)]: Done  42 tasks      | elapsed:  2.2min\n",
      "[Parallel(n_jobs=-1)]: Done 108 out of 108 | elapsed:  9.0min finished\n"
     ]
    }
   ],
   "source": [
    "#Abbreviated grid search -- this may be misleading bc better accuracy can accrute to non-spikes\n",
    "from sklearn.model_selection import GridSearchCV\n",
    "\n",
    "n_estimators = [75, 100, 150, 200]\n",
    "min_samples_leaf = [1,2,4] \n",
    "max_features = [3,4,8]\n",
    "\n",
    "param_dict = dict(n_estimators = n_estimators, \n",
    "              min_samples_leaf = min_samples_leaf, max_features = max_features)\n",
    "\n",
    "grid_forest = GridSearchCV(RandomForestClassifier(random_state=42), param_dict, cv = 3, verbose = 1, \n",
    "                      n_jobs = -1)\n",
    "best_forest = grid_forest.fit(X, y)"
   ]
  },
  {
   "cell_type": "code",
   "execution_count": 344,
   "metadata": {},
   "outputs": [
    {
     "name": "stdout",
     "output_type": "stream",
     "text": [
      "TESTING\n",
      "Spikes correctly predicted: 0.46709129511677283\n",
      "Overall hours correctly predicted: 0.9593560908779541\n"
     ]
    }
   ],
   "source": [
    "##Testing score\n",
    "c_test, o_test = model_performance(best_forest, X_test, y_test)\n",
    "print(\"TESTING\")\n",
    "print(\"Spikes correctly predicted: \" + str(c_test))\n",
    "print(\"Overall hours correctly predicted: \" + str(o_test))"
   ]
  },
  {
   "cell_type": "markdown",
   "metadata": {},
   "source": [
    "# 4. Exporting results for optimization team\n",
    "Missing last hour of the year; filling with second-to-last"
   ]
  },
  {
   "cell_type": "code",
   "execution_count": 43,
   "metadata": {},
   "outputs": [],
   "source": [
    "results = union.loc[union['year']==2018,['date_central','hr_central','price_DAH_REGDN']]\n",
    "results.reset_index(inplace=True, drop=True)\n",
    "assert len(results) == 8759"
   ]
  },
  {
   "cell_type": "code",
   "execution_count": 44,
   "metadata": {},
   "outputs": [],
   "source": [
    "results.rename(columns={'price_DAH_REGDN':'Actual_REGDN_Price'}, inplace=True)\n",
    "results['Actual_Category'] = y_test\n",
    "results['Predicted_Category'] = rf_tree.predict(X_test)"
   ]
  },
  {
   "cell_type": "code",
   "execution_count": 45,
   "metadata": {},
   "outputs": [],
   "source": [
    "#Assigning hourly average for regular hours, and spike average for spiky hours\n",
    "regular_hours = union[['date_central','hr_central','price_DAH_REGDN']][(union['price_DAH_REGDN']<spike) & \n",
    "                                                           (union['year']<2018)]\n",
    "spike_hours = union[['date_central','hr_central','price_DAH_REGDN']][(union['price_DAH_REGDN']>=spike) & \n",
    "                                                           (union['year']<2018)]\n",
    "\n",
    "avgs = regular_hours.groupby('hr_central').mean().to_dict()\n",
    "spike_avg = spike_hours['price_DAH_REGDN'].mean()\n",
    "\n",
    "results['Predicted_Price'] = results['hr_central'].map(avgs['price_DAH_REGDN'])\n",
    "results['Predicted_Price'][results['Predicted_Category']=='spike'] = spike_avg"
   ]
  },
  {
   "cell_type": "code",
   "execution_count": 46,
   "metadata": {},
   "outputs": [],
   "source": [
    "temp = pd.DataFrame(results[-1:].values, index=[8759], columns=results.columns)\n",
    "temp.loc[8759,'hr_central'] = 18\n",
    "results = results.append(temp)"
   ]
  },
  {
   "cell_type": "code",
   "execution_count": 47,
   "metadata": {},
   "outputs": [
    {
     "data": {
      "image/png": "[encoded data removed]",
      "text/plain": [
       "<Figure size 648x216 with 1 Axes>"
      ]
     },
     "metadata": {
      "needs_background": "light"
     },
     "output_type": "display_data"
    }
   ],
   "source": [
    "fig = plt.figure(figsize=(9,3))\n",
    "plt.plot(results['Actual_REGDN_Price'], label=\"Actual\", color='teal')\n",
    "plt.plot(results['Predicted_Price'], label=\"Predicted\", color='orange')\n",
    "plt.legend()\n",
    "plt.title(\"Predicted DAH Regulation Down Prices, 2018 (random forest classifier)\")\n",
    "plt.xlabel('Hour of year')\n",
    "plt.ylabel(\"$/MWh\")\n",
    "plt.savefig(\"Random_Forest_Results_48.png\")\n",
    "\n",
    "results.to_csv(\"random_forest_results_48.csv\", index=False)"
   ]
  },
  {
   "cell_type": "code",
   "execution_count": null,
   "metadata": {},
   "outputs": [],
   "source": []
  }
 ],
 "metadata": {
  "kernelspec": {
   "display_name": "Python 3.7.3 64-bit ('base': conda)",
   "language": "python",
   "name": "python37364bitbaseconda588607f9a8224136a0eb124c124b5350"
  },
  "language_info": {
   "codemirror_mode": {
    "name": "ipython",
    "version": 3
   },
   "file_extension": ".py",
   "mimetype": "text/x-python",
   "name": "python",
   "nbconvert_exporter": "python",
   "pygments_lexer": "ipython3",
   "version": "3.7.3"
  }
 },
 "nbformat": 4,
 "nbformat_minor": 4
}
