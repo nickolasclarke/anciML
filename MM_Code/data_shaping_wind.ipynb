{
 "cells": [
  {
   "cell_type": "code",
   "execution_count": 1,
   "metadata": {},
   "outputs": [],
   "source": [
    "import json\n",
    "import csv\n",
    "import pandas as pd\n",
    "pd.set_option('display.max_columns', 500)\n",
    "pd.options.mode.chained_assignment = None  # default='warn'\n",
    "import numpy as np\n",
    "import geopandas as gpd\n",
    "import shapely\n",
    "from shapely.geometry import Point, MultiPoint, Polygon, MultiPolygon\n",
    "from shapely.affinity import scale\n",
    "import matplotlib.pyplot as plt\n",
    "\n",
    "import glob\n",
    "import os\n",
    "import datetime"
   ]
  },
  {
   "cell_type": "markdown",
   "metadata": {},
   "source": [
    "# WPP_Hrly_AVG_Actual_Forecasted_2016-2018\n",
    "Column names vary and have to be individually treated"
   ]
  },
  {
   "cell_type": "code",
   "execution_count": 2,
   "metadata": {},
   "outputs": [],
   "source": [
    "#loading all data and concatenating\n",
    "path = r'/Users/margaretmccall/Documents/2020 Spring/CE 295/0 - Final Project/Data--ERCOT/WPP_Hrly_AVG_Actual_Forecasted'\n",
    "all_files = glob.glob(path + \"/*.csv\")\n",
    "\n",
    "dfs = []\n",
    "bad_files = []\n",
    "\n",
    "for file in all_files:\n",
    "    try:\n",
    "        x = pd.read_csv(file)\n",
    "        dfs.append(x)\n",
    "    except pd.errors.EmptyDataError:\n",
    "        bad_files.append(file)"
   ]
  },
  {
   "cell_type": "code",
   "execution_count": 3,
   "metadata": {},
   "outputs": [],
   "source": [
    "df_cols = []\n",
    "for df in dfs:\n",
    "    df_cols.append(np.array(df.columns))"
   ]
  },
  {
   "cell_type": "code",
   "execution_count": 4,
   "metadata": {},
   "outputs": [],
   "source": [
    "#could have date and hour, or just hour, which presumably also contains date\n",
    "just_hr_beg = []\n",
    "just_hr_end = []\n",
    "date_plus_hr_beg = []\n",
    "date_plus_hr_end = []\n",
    "just_date = []\n",
    "no_match = []\n",
    "\n",
    "for i in range(len(df_cols)): \n",
    "    if ('HOUR_BEGINNING' in df_cols[i]) & ('DELIVERY_DATE' not in df_cols[i]):\n",
    "        just_hr_beg.append(i)\n",
    "    elif ('HOUR_ENDING' in df_cols[i]) & ('DELIVERY_DATE' not in df_cols[i]):\n",
    "        just_hr_end.append(i)\n",
    "    elif ('HOUR_BEGINNING' in df_cols[i]) & ('DELIVERY_DATE' in df_cols[i]):\n",
    "        date_plus_hr_beg.append(i)\n",
    "    elif ('HOUR_ENDING' in df_cols[i]) & ('DELIVERY_DATE' in df_cols[i]):\n",
    "        date_plus_hr_end.append(i)\n",
    "    elif ('HOUR_BEGINNING' not in df_cols[i]) & ('HOUR_ENDING' not in df_cols[i]) & ('DELIVERY_DATE' in df_cols[i]):\n",
    "        just_date.append(i)\n",
    "    elif ('HOUR_BEGINNING' not in df_cols[i]) & ('HOUR_ENDING' not in df_cols[i]) & ('DELIVERY_DATE' not in df_cols[i]):\n",
    "        no_match.append(i)"
   ]
  },
  {
   "cell_type": "code",
   "execution_count": 5,
   "metadata": {},
   "outputs": [
    {
     "name": "stdout",
     "output_type": "stream",
     "text": [
      "12061\n",
      "9634\n",
      "0\n",
      "22080\n",
      "0\n",
      "0\n"
     ]
    }
   ],
   "source": [
    "#covers all dataframes\n",
    "lists = [just_hr_beg,\n",
    "just_hr_end,\n",
    "date_plus_hr_beg,\n",
    "date_plus_hr_end,just_date, no_match]\n",
    "for l in lists:\n",
    "    print(len(l))"
   ]
  },
  {
   "cell_type": "code",
   "execution_count": 6,
   "metadata": {},
   "outputs": [],
   "source": [
    "#list comprehension (fast) to get list of each type of df\n",
    "dfs_hrbeg = [dfs[i] for i in just_hr_beg]\n",
    "dfs_hrend = [dfs[i] for i in just_hr_end]\n",
    "dfs_date_hrend = [dfs[i] for i in date_plus_hr_end]"
   ]
  },
  {
   "cell_type": "code",
   "execution_count": 7,
   "metadata": {},
   "outputs": [],
   "source": [
    "#concatenating all dfs of same type\n",
    "dfs_hrbeg = pd.concat(dfs_hrbeg)"
   ]
  },
  {
   "cell_type": "code",
   "execution_count": 8,
   "metadata": {},
   "outputs": [],
   "source": [
    "dfs_hrend = pd.concat(dfs_hrend)"
   ]
  },
  {
   "cell_type": "code",
   "execution_count": 9,
   "metadata": {},
   "outputs": [
    {
     "name": "stderr",
     "output_type": "stream",
     "text": [
      "/anaconda3/lib/python3.7/site-packages/ipykernel_launcher.py:1: FutureWarning: Sorting because non-concatenation axis is not aligned. A future version\n",
      "of pandas will change to not sort by default.\n",
      "\n",
      "To accept the future behavior, pass 'sort=False'.\n",
      "\n",
      "To retain the current behavior and silence the warning, pass 'sort=True'.\n",
      "\n",
      "  \"\"\"Entry point for launching an IPython kernel.\n"
     ]
    }
   ],
   "source": [
    "dfs_date_hrend = pd.concat(dfs_date_hrend)"
   ]
  },
  {
   "cell_type": "code",
   "execution_count": 10,
   "metadata": {},
   "outputs": [],
   "source": [
    "#dropping duplicates (but why are they there?)\n",
    "dfs_hrbeg.drop_duplicates(inplace=True)\n",
    "dfs_hrend.drop_duplicates(inplace=True)\n",
    "dfs_date_hrend.drop_duplicates(inplace=True)"
   ]
  },
  {
   "cell_type": "code",
   "execution_count": 11,
   "metadata": {},
   "outputs": [],
   "source": [
    "#Converting to datetime\n",
    "dfs_date_hrend['HOUR_BEGINNING'] = dfs_date_hrend['HOUR_ENDING']-1"
   ]
  },
  {
   "cell_type": "code",
   "execution_count": 12,
   "metadata": {},
   "outputs": [],
   "source": [
    "dfs_date_hrend['HOUR_BEGINNING_str'] = dfs_date_hrend['HOUR_BEGINNING'].astype(str)"
   ]
  },
  {
   "cell_type": "code",
   "execution_count": 13,
   "metadata": {},
   "outputs": [],
   "source": [
    "dfs_date_hrend['HOUR_BEGINNING_str'] = dfs_date_hrend['HOUR_BEGINNING_str'] + \":00\""
   ]
  },
  {
   "cell_type": "code",
   "execution_count": 17,
   "metadata": {},
   "outputs": [],
   "source": [
    "dfs_date_hrend['DATE+TIME'] = dfs_date_hrend['DELIVERY_DATE'] + \" \" + dfs_date_hrend['HOUR_BEGINNING_str']"
   ]
  },
  {
   "cell_type": "code",
   "execution_count": 23,
   "metadata": {},
   "outputs": [],
   "source": [
    "dfs_date_hrend.reset_index(inplace=True, drop=True)"
   ]
  },
  {
   "cell_type": "code",
   "execution_count": 26,
   "metadata": {},
   "outputs": [],
   "source": [
    "dfs_date_hrend['DT'] = pd.to_datetime(dfs_date_hrend['DATE+TIME'])"
   ]
  },
  {
   "cell_type": "code",
   "execution_count": 29,
   "metadata": {},
   "outputs": [],
   "source": [
    "import pickle\n",
    "filename = 'dfs_date_hrend.pickle'\n",
    "with open(filename, 'wb') as fp:\n",
    "    pickle.dump(dfs_date_hrend, fp)"
   ]
  },
  {
   "cell_type": "code",
   "execution_count": 30,
   "metadata": {},
   "outputs": [],
   "source": [
    "dfs_hrbeg['HOUR_BEGINNING'] = pd.to_datetime(dfs_hrbeg['HOUR_BEGINNING'])"
   ]
  },
  {
   "cell_type": "code",
   "execution_count": 31,
   "metadata": {},
   "outputs": [],
   "source": [
    "dfs_hrend['HOUR_ENDING'] = pd.to_datetime(dfs_hrend['HOUR_ENDING'])"
   ]
  },
  {
   "cell_type": "code",
   "execution_count": 32,
   "metadata": {},
   "outputs": [],
   "source": [
    "filename = 'dfs_hrbeg.pickle'\n",
    "with open(filename, 'wb') as fp:\n",
    "    pickle.dump(dfs_hrbeg, fp)\n",
    "filename = 'dfs_hrend.pickle'\n",
    "with open(filename, 'wb') as fp:\n",
    "    pickle.dump(dfs_hrend, fp)"
   ]
  },
  {
   "cell_type": "code",
   "execution_count": 62,
   "metadata": {},
   "outputs": [],
   "source": [
    "filename = 'dfs_date_hrend.pickle' #loading again; screwed up\n",
    "with open(filename, 'rb') as fp:\n",
    "    dfs_date_hrend = pickle.load(fp)"
   ]
  },
  {
   "cell_type": "code",
   "execution_count": 34,
   "metadata": {},
   "outputs": [],
   "source": [
    "dfs_hrend['HOUR_BEGINNING'] = dfs_hrend['HOUR_ENDING'] - datetime.timedelta(hours=1)\n",
    "dfs_hrend.drop(columns='HOUR_ENDING',inplace=True)"
   ]
  },
  {
   "cell_type": "code",
   "execution_count": 63,
   "metadata": {},
   "outputs": [],
   "source": [
    "#aligning columns\n",
    "dfs_date_hrend['HOUR_BEGINNING'] = dfs_date_hrend['DT']\n",
    "dfs_date_hrend.drop(columns=['HOUR_BEGINNING_str','DATE+TIME','DT','DELIVERY_DATE'],\n",
    "                   inplace=True)"
   ]
  },
  {
   "cell_type": "code",
   "execution_count": 64,
   "metadata": {},
   "outputs": [
    {
     "data": {
      "text/plain": [
       "{'ACTUAL_LZ_NORTH',\n",
       " 'ACTUAL_LZ_SOUTH_HOUSTON',\n",
       " 'ACTUAL_LZ_WEST',\n",
       " 'COP_HSL_LZ_NORTH',\n",
       " 'COP_HSL_LZ_SOUTH_HOUSTON',\n",
       " 'COP_HSL_LZ_WEST',\n",
       " 'HOUR_ENDING',\n",
       " 'STWPF_LZ_NORTH',\n",
       " 'STWPF_LZ_SOUTH_HOUSTON',\n",
       " 'STWPF_LZ_WEST',\n",
       " 'WGRPP_LZ_NORTH',\n",
       " 'WGRPP_LZ_SOUTH_HOUSTON',\n",
       " 'WGRPP_LZ_WEST'}"
      ]
     },
     "execution_count": 64,
     "metadata": {},
     "output_type": "execute_result"
    }
   ],
   "source": [
    "set(dfs_hrbeg.columns) - set(dfs_hrend.columns)\n",
    "set(dfs_date_hrend.columns) - set(dfs_hrend.columns)"
   ]
  },
  {
   "cell_type": "code",
   "execution_count": 65,
   "metadata": {},
   "outputs": [],
   "source": [
    "dfs_date_hrend.drop(columns=list(set(dfs_date_hrend.columns) - set(dfs_hrend.columns)),inplace=True)"
   ]
  },
  {
   "cell_type": "code",
   "execution_count": 66,
   "metadata": {},
   "outputs": [],
   "source": [
    "#sorting\n",
    "dfs_hrbeg.sort_values(by=['HOUR_BEGINNING'], inplace=True)\n",
    "dfs_hrend.sort_values(by=['HOUR_BEGINNING'], inplace=True)\n",
    "dfs_date_hrend.sort_values(by=['HOUR_BEGINNING'], inplace=True)"
   ]
  },
  {
   "cell_type": "code",
   "execution_count": 69,
   "metadata": {},
   "outputs": [
    {
     "name": "stderr",
     "output_type": "stream",
     "text": [
      "/anaconda3/lib/python3.7/site-packages/ipykernel_launcher.py:1: FutureWarning: Sorting because non-concatenation axis is not aligned. A future version\n",
      "of pandas will change to not sort by default.\n",
      "\n",
      "To accept the future behavior, pass 'sort=False'.\n",
      "\n",
      "To retain the current behavior and silence the warning, pass 'sort=True'.\n",
      "\n",
      "  \"\"\"Entry point for launching an IPython kernel.\n"
     ]
    }
   ],
   "source": [
    "merged_wind = pd.concat([dfs_hrbeg, dfs_hrend, dfs_date_hrend])"
   ]
  },
  {
   "cell_type": "code",
   "execution_count": 71,
   "metadata": {},
   "outputs": [],
   "source": [
    "merged_wind.drop_duplicates(inplace=True)"
   ]
  },
  {
   "cell_type": "code",
   "execution_count": null,
   "metadata": {},
   "outputs": [],
   "source": [
    "merged_wind.sort_values(by=['HOUR_BEGINNING'], inplace=True)\n",
    "merged_wind.drop(columns=['COP_HSL_SOUTH_HOUSTON','COP_HSL_SYSTEM_WIDE','COP_HSL_WEST_NORTH',\n",
    "                         'DSTFlag','WGRPP_SOUTH_HOUSTON','WGRPP_SYSTEM_WIDE','WGRPP_WEST_NORTH'], inplace=True)\n",
    "merged_wind.head()"
   ]
  },
  {
   "cell_type": "code",
   "execution_count": 89,
   "metadata": {},
   "outputs": [],
   "source": [
    "merged_wind.reset_index(inplace=True, drop=True)"
   ]
  },
  {
   "cell_type": "code",
   "execution_count": 76,
   "metadata": {},
   "outputs": [],
   "source": [
    "filename = 'merged_wind.pickle'\n",
    "with open(filename, 'wb') as fp:\n",
    "    pickle.dump(merged_wind, fp)"
   ]
  },
  {
   "cell_type": "code",
   "execution_count": 90,
   "metadata": {},
   "outputs": [],
   "source": [
    "merged_wind['year'] = merged_wind['HOUR_BEGINNING'].dt.year"
   ]
  },
  {
   "cell_type": "code",
   "execution_count": 91,
   "metadata": {},
   "outputs": [],
   "source": [
    "merged_wind['hour'] = merged_wind['HOUR_BEGINNING'].dt.hour"
   ]
  },
  {
   "cell_type": "code",
   "execution_count": 92,
   "metadata": {},
   "outputs": [],
   "source": [
    "merged_wind['date'] = merged_wind['HOUR_BEGINNING'].dt.date"
   ]
  },
  {
   "cell_type": "code",
   "execution_count": 100,
   "metadata": {},
   "outputs": [],
   "source": [
    "#for some reason there are millions of extra entries--seemsl ike some of this was sub-hourly.\n",
    "#averaging\n",
    "grouped_wind = merged_wind.groupby('HOUR_BEGINNING').mean()\n",
    "grouped_wind.drop(columns=['year','hour'], inplace=True)"
   ]
  },
  {
   "cell_type": "code",
   "execution_count": 102,
   "metadata": {},
   "outputs": [],
   "source": [
    "grouped_wind.reset_index(inplace=True)"
   ]
  },
  {
   "cell_type": "code",
   "execution_count": 104,
   "metadata": {},
   "outputs": [],
   "source": [
    "grouped_wind['date'] = grouped_wind['HOUR_BEGINNING'].dt.date\n",
    "grouped_wind['hr_beg'] = grouped_wind['HOUR_BEGINNING'].dt.hour"
   ]
  },
  {
   "cell_type": "code",
   "execution_count": 106,
   "metadata": {},
   "outputs": [
    {
     "data": {
      "text/html": [
       "<div>\n",
       "<style scoped>\n",
       "    .dataframe tbody tr th:only-of-type {\n",
       "        vertical-align: middle;\n",
       "    }\n",
       "\n",
       "    .dataframe tbody tr th {\n",
       "        vertical-align: top;\n",
       "    }\n",
       "\n",
       "    .dataframe thead th {\n",
       "        text-align: right;\n",
       "    }\n",
       "</style>\n",
       "<table border=\"1\" class=\"dataframe\">\n",
       "  <thead>\n",
       "    <tr style=\"text-align: right;\">\n",
       "      <th></th>\n",
       "      <th>HOUR_BEGINNING</th>\n",
       "      <th>ACTUAL_SOUTH_HOUSTON</th>\n",
       "      <th>ACTUAL_SYSTEM_WIDE</th>\n",
       "      <th>ACTUAL_WEST_NORTH</th>\n",
       "      <th>STWPF_SOUTH_HOUSTON</th>\n",
       "      <th>STWPF_SYSTEM_WIDE</th>\n",
       "      <th>STWPF_WEST_NORTH</th>\n",
       "      <th>date</th>\n",
       "      <th>hr_beg</th>\n",
       "    </tr>\n",
       "  </thead>\n",
       "  <tbody>\n",
       "    <tr>\n",
       "      <th>1656</th>\n",
       "      <td>2014-03-09 00:00:00</td>\n",
       "      <td>2104.29</td>\n",
       "      <td>6492.645</td>\n",
       "      <td>4388.355</td>\n",
       "      <td>1491.036000</td>\n",
       "      <td>4308.986000</td>\n",
       "      <td>2817.950000</td>\n",
       "      <td>2014-03-09</td>\n",
       "      <td>0</td>\n",
       "    </tr>\n",
       "    <tr>\n",
       "      <th>1657</th>\n",
       "      <td>2014-03-09 02:00:00</td>\n",
       "      <td>1737.14</td>\n",
       "      <td>4077.220</td>\n",
       "      <td>2340.080</td>\n",
       "      <td>1174.483333</td>\n",
       "      <td>4300.027083</td>\n",
       "      <td>3125.543750</td>\n",
       "      <td>2014-03-09</td>\n",
       "      <td>2</td>\n",
       "    </tr>\n",
       "    <tr>\n",
       "      <th>1658</th>\n",
       "      <td>2014-03-09 03:00:00</td>\n",
       "      <td>1998.84</td>\n",
       "      <td>3697.000</td>\n",
       "      <td>1698.160</td>\n",
       "      <td>1707.131250</td>\n",
       "      <td>4086.968750</td>\n",
       "      <td>2379.837500</td>\n",
       "      <td>2014-03-09</td>\n",
       "      <td>3</td>\n",
       "    </tr>\n",
       "    <tr>\n",
       "      <th>1659</th>\n",
       "      <td>2014-03-09 04:00:00</td>\n",
       "      <td>1871.61</td>\n",
       "      <td>2720.460</td>\n",
       "      <td>848.850</td>\n",
       "      <td>1719.777083</td>\n",
       "      <td>3747.087500</td>\n",
       "      <td>2027.310417</td>\n",
       "      <td>2014-03-09</td>\n",
       "      <td>4</td>\n",
       "    </tr>\n",
       "    <tr>\n",
       "      <th>1660</th>\n",
       "      <td>2014-03-09 05:00:00</td>\n",
       "      <td>1717.74</td>\n",
       "      <td>2279.310</td>\n",
       "      <td>561.570</td>\n",
       "      <td>1684.489583</td>\n",
       "      <td>3367.814583</td>\n",
       "      <td>1683.325000</td>\n",
       "      <td>2014-03-09</td>\n",
       "      <td>5</td>\n",
       "    </tr>\n",
       "    <tr>\n",
       "      <th>1661</th>\n",
       "      <td>2014-03-09 06:00:00</td>\n",
       "      <td>1336.50</td>\n",
       "      <td>1835.840</td>\n",
       "      <td>499.340</td>\n",
       "      <td>1619.310417</td>\n",
       "      <td>3150.118750</td>\n",
       "      <td>1530.808333</td>\n",
       "      <td>2014-03-09</td>\n",
       "      <td>6</td>\n",
       "    </tr>\n",
       "    <tr>\n",
       "      <th>1662</th>\n",
       "      <td>2014-03-09 07:00:00</td>\n",
       "      <td>1202.32</td>\n",
       "      <td>1805.330</td>\n",
       "      <td>603.010</td>\n",
       "      <td>1555.152083</td>\n",
       "      <td>3080.647917</td>\n",
       "      <td>1525.495833</td>\n",
       "      <td>2014-03-09</td>\n",
       "      <td>7</td>\n",
       "    </tr>\n",
       "    <tr>\n",
       "      <th>1663</th>\n",
       "      <td>2014-03-09 08:00:00</td>\n",
       "      <td>1336.05</td>\n",
       "      <td>2033.380</td>\n",
       "      <td>697.330</td>\n",
       "      <td>1445.647917</td>\n",
       "      <td>2803.164583</td>\n",
       "      <td>1357.516667</td>\n",
       "      <td>2014-03-09</td>\n",
       "      <td>8</td>\n",
       "    </tr>\n",
       "    <tr>\n",
       "      <th>1664</th>\n",
       "      <td>2014-03-09 09:00:00</td>\n",
       "      <td>1167.25</td>\n",
       "      <td>1577.710</td>\n",
       "      <td>410.460</td>\n",
       "      <td>1380.006250</td>\n",
       "      <td>2641.035417</td>\n",
       "      <td>1261.029167</td>\n",
       "      <td>2014-03-09</td>\n",
       "      <td>9</td>\n",
       "    </tr>\n",
       "    <tr>\n",
       "      <th>1665</th>\n",
       "      <td>2014-03-09 10:00:00</td>\n",
       "      <td>1219.14</td>\n",
       "      <td>1533.000</td>\n",
       "      <td>313.860</td>\n",
       "      <td>1280.100000</td>\n",
       "      <td>2508.204167</td>\n",
       "      <td>1228.104167</td>\n",
       "      <td>2014-03-09</td>\n",
       "      <td>10</td>\n",
       "    </tr>\n",
       "    <tr>\n",
       "      <th>1666</th>\n",
       "      <td>2014-03-09 11:00:00</td>\n",
       "      <td>1383.34</td>\n",
       "      <td>1696.800</td>\n",
       "      <td>313.460</td>\n",
       "      <td>1112.147917</td>\n",
       "      <td>2155.329167</td>\n",
       "      <td>1043.181250</td>\n",
       "      <td>2014-03-09</td>\n",
       "      <td>11</td>\n",
       "    </tr>\n",
       "    <tr>\n",
       "      <th>1667</th>\n",
       "      <td>2014-03-09 12:00:00</td>\n",
       "      <td>1372.19</td>\n",
       "      <td>1648.030</td>\n",
       "      <td>275.840</td>\n",
       "      <td>978.539583</td>\n",
       "      <td>1775.704167</td>\n",
       "      <td>797.164583</td>\n",
       "      <td>2014-03-09</td>\n",
       "      <td>12</td>\n",
       "    </tr>\n",
       "    <tr>\n",
       "      <th>1668</th>\n",
       "      <td>2014-03-09 13:00:00</td>\n",
       "      <td>1038.02</td>\n",
       "      <td>1152.790</td>\n",
       "      <td>114.770</td>\n",
       "      <td>894.362500</td>\n",
       "      <td>1500.195833</td>\n",
       "      <td>605.833333</td>\n",
       "      <td>2014-03-09</td>\n",
       "      <td>13</td>\n",
       "    </tr>\n",
       "    <tr>\n",
       "      <th>1669</th>\n",
       "      <td>2014-03-09 14:00:00</td>\n",
       "      <td>876.63</td>\n",
       "      <td>896.250</td>\n",
       "      <td>19.620</td>\n",
       "      <td>827.875000</td>\n",
       "      <td>1321.579167</td>\n",
       "      <td>493.704167</td>\n",
       "      <td>2014-03-09</td>\n",
       "      <td>14</td>\n",
       "    </tr>\n",
       "    <tr>\n",
       "      <th>1670</th>\n",
       "      <td>2014-03-09 15:00:00</td>\n",
       "      <td>803.51</td>\n",
       "      <td>811.550</td>\n",
       "      <td>8.040</td>\n",
       "      <td>762.352083</td>\n",
       "      <td>1159.091667</td>\n",
       "      <td>396.739583</td>\n",
       "      <td>2014-03-09</td>\n",
       "      <td>15</td>\n",
       "    </tr>\n",
       "    <tr>\n",
       "      <th>1671</th>\n",
       "      <td>2014-03-09 16:00:00</td>\n",
       "      <td>685.47</td>\n",
       "      <td>690.140</td>\n",
       "      <td>4.670</td>\n",
       "      <td>704.645833</td>\n",
       "      <td>1035.108333</td>\n",
       "      <td>330.462500</td>\n",
       "      <td>2014-03-09</td>\n",
       "      <td>16</td>\n",
       "    </tr>\n",
       "    <tr>\n",
       "      <th>1672</th>\n",
       "      <td>2014-03-09 17:00:00</td>\n",
       "      <td>631.62</td>\n",
       "      <td>635.920</td>\n",
       "      <td>4.300</td>\n",
       "      <td>651.147917</td>\n",
       "      <td>941.331250</td>\n",
       "      <td>290.183333</td>\n",
       "      <td>2014-03-09</td>\n",
       "      <td>17</td>\n",
       "    </tr>\n",
       "    <tr>\n",
       "      <th>1673</th>\n",
       "      <td>2014-03-09 18:00:00</td>\n",
       "      <td>489.13</td>\n",
       "      <td>493.050</td>\n",
       "      <td>3.920</td>\n",
       "      <td>602.741667</td>\n",
       "      <td>878.718750</td>\n",
       "      <td>275.977083</td>\n",
       "      <td>2014-03-09</td>\n",
       "      <td>18</td>\n",
       "    </tr>\n",
       "    <tr>\n",
       "      <th>1674</th>\n",
       "      <td>2014-03-09 19:00:00</td>\n",
       "      <td>412.21</td>\n",
       "      <td>442.110</td>\n",
       "      <td>29.900</td>\n",
       "      <td>562.727083</td>\n",
       "      <td>874.722917</td>\n",
       "      <td>311.995833</td>\n",
       "      <td>2014-03-09</td>\n",
       "      <td>19</td>\n",
       "    </tr>\n",
       "    <tr>\n",
       "      <th>1675</th>\n",
       "      <td>2014-03-09 20:00:00</td>\n",
       "      <td>316.31</td>\n",
       "      <td>424.220</td>\n",
       "      <td>107.910</td>\n",
       "      <td>532.097917</td>\n",
       "      <td>957.570833</td>\n",
       "      <td>425.472917</td>\n",
       "      <td>2014-03-09</td>\n",
       "      <td>20</td>\n",
       "    </tr>\n",
       "    <tr>\n",
       "      <th>1676</th>\n",
       "      <td>2014-03-09 21:00:00</td>\n",
       "      <td>295.49</td>\n",
       "      <td>542.230</td>\n",
       "      <td>246.740</td>\n",
       "      <td>519.352083</td>\n",
       "      <td>1115.418750</td>\n",
       "      <td>596.066667</td>\n",
       "      <td>2014-03-09</td>\n",
       "      <td>21</td>\n",
       "    </tr>\n",
       "    <tr>\n",
       "      <th>1677</th>\n",
       "      <td>2014-03-09 22:00:00</td>\n",
       "      <td>294.92</td>\n",
       "      <td>872.880</td>\n",
       "      <td>577.960</td>\n",
       "      <td>501.181250</td>\n",
       "      <td>1319.370833</td>\n",
       "      <td>818.189583</td>\n",
       "      <td>2014-03-09</td>\n",
       "      <td>22</td>\n",
       "    </tr>\n",
       "    <tr>\n",
       "      <th>1678</th>\n",
       "      <td>2014-03-09 23:00:00</td>\n",
       "      <td>427.82</td>\n",
       "      <td>1330.750</td>\n",
       "      <td>902.930</td>\n",
       "      <td>496.218750</td>\n",
       "      <td>1600.858333</td>\n",
       "      <td>1104.639583</td>\n",
       "      <td>2014-03-09</td>\n",
       "      <td>23</td>\n",
       "    </tr>\n",
       "  </tbody>\n",
       "</table>\n",
       "</div>"
      ],
      "text/plain": [
       "          HOUR_BEGINNING  ACTUAL_SOUTH_HOUSTON  ACTUAL_SYSTEM_WIDE  \\\n",
       "1656 2014-03-09 00:00:00               2104.29            6492.645   \n",
       "1657 2014-03-09 02:00:00               1737.14            4077.220   \n",
       "1658 2014-03-09 03:00:00               1998.84            3697.000   \n",
       "1659 2014-03-09 04:00:00               1871.61            2720.460   \n",
       "1660 2014-03-09 05:00:00               1717.74            2279.310   \n",
       "1661 2014-03-09 06:00:00               1336.50            1835.840   \n",
       "1662 2014-03-09 07:00:00               1202.32            1805.330   \n",
       "1663 2014-03-09 08:00:00               1336.05            2033.380   \n",
       "1664 2014-03-09 09:00:00               1167.25            1577.710   \n",
       "1665 2014-03-09 10:00:00               1219.14            1533.000   \n",
       "1666 2014-03-09 11:00:00               1383.34            1696.800   \n",
       "1667 2014-03-09 12:00:00               1372.19            1648.030   \n",
       "1668 2014-03-09 13:00:00               1038.02            1152.790   \n",
       "1669 2014-03-09 14:00:00                876.63             896.250   \n",
       "1670 2014-03-09 15:00:00                803.51             811.550   \n",
       "1671 2014-03-09 16:00:00                685.47             690.140   \n",
       "1672 2014-03-09 17:00:00                631.62             635.920   \n",
       "1673 2014-03-09 18:00:00                489.13             493.050   \n",
       "1674 2014-03-09 19:00:00                412.21             442.110   \n",
       "1675 2014-03-09 20:00:00                316.31             424.220   \n",
       "1676 2014-03-09 21:00:00                295.49             542.230   \n",
       "1677 2014-03-09 22:00:00                294.92             872.880   \n",
       "1678 2014-03-09 23:00:00                427.82            1330.750   \n",
       "\n",
       "      ACTUAL_WEST_NORTH  STWPF_SOUTH_HOUSTON  STWPF_SYSTEM_WIDE  \\\n",
       "1656           4388.355          1491.036000        4308.986000   \n",
       "1657           2340.080          1174.483333        4300.027083   \n",
       "1658           1698.160          1707.131250        4086.968750   \n",
       "1659            848.850          1719.777083        3747.087500   \n",
       "1660            561.570          1684.489583        3367.814583   \n",
       "1661            499.340          1619.310417        3150.118750   \n",
       "1662            603.010          1555.152083        3080.647917   \n",
       "1663            697.330          1445.647917        2803.164583   \n",
       "1664            410.460          1380.006250        2641.035417   \n",
       "1665            313.860          1280.100000        2508.204167   \n",
       "1666            313.460          1112.147917        2155.329167   \n",
       "1667            275.840           978.539583        1775.704167   \n",
       "1668            114.770           894.362500        1500.195833   \n",
       "1669             19.620           827.875000        1321.579167   \n",
       "1670              8.040           762.352083        1159.091667   \n",
       "1671              4.670           704.645833        1035.108333   \n",
       "1672              4.300           651.147917         941.331250   \n",
       "1673              3.920           602.741667         878.718750   \n",
       "1674             29.900           562.727083         874.722917   \n",
       "1675            107.910           532.097917         957.570833   \n",
       "1676            246.740           519.352083        1115.418750   \n",
       "1677            577.960           501.181250        1319.370833   \n",
       "1678            902.930           496.218750        1600.858333   \n",
       "\n",
       "      STWPF_WEST_NORTH        date  hr_beg  \n",
       "1656       2817.950000  2014-03-09       0  \n",
       "1657       3125.543750  2014-03-09       2  \n",
       "1658       2379.837500  2014-03-09       3  \n",
       "1659       2027.310417  2014-03-09       4  \n",
       "1660       1683.325000  2014-03-09       5  \n",
       "1661       1530.808333  2014-03-09       6  \n",
       "1662       1525.495833  2014-03-09       7  \n",
       "1663       1357.516667  2014-03-09       8  \n",
       "1664       1261.029167  2014-03-09       9  \n",
       "1665       1228.104167  2014-03-09      10  \n",
       "1666       1043.181250  2014-03-09      11  \n",
       "1667        797.164583  2014-03-09      12  \n",
       "1668        605.833333  2014-03-09      13  \n",
       "1669        493.704167  2014-03-09      14  \n",
       "1670        396.739583  2014-03-09      15  \n",
       "1671        330.462500  2014-03-09      16  \n",
       "1672        290.183333  2014-03-09      17  \n",
       "1673        275.977083  2014-03-09      18  \n",
       "1674        311.995833  2014-03-09      19  \n",
       "1675        425.472917  2014-03-09      20  \n",
       "1676        596.066667  2014-03-09      21  \n",
       "1677        818.189583  2014-03-09      22  \n",
       "1678       1104.639583  2014-03-09      23  "
      ]
     },
     "execution_count": 106,
     "metadata": {},
     "output_type": "execute_result"
    }
   ],
   "source": [
    "grouped_wind[grouped_wind['date']==datetime.date(2014,3,9)]"
   ]
  },
  {
   "cell_type": "code",
   "execution_count": 107,
   "metadata": {},
   "outputs": [],
   "source": [
    "#TIME ZONES / DST\n",
    "import pytz\n",
    "from pytz import timezone"
   ]
  },
  {
   "cell_type": "code",
   "execution_count": 108,
   "metadata": {},
   "outputs": [],
   "source": [
    "def get_utc(df):\n",
    "    \"\"\"Requires dataframe with column 'dt' with datetime\"\"\"\n",
    "    central = timezone('America/Chicago')\n",
    "    df['Central'] = df['dt'].apply(lambda x: central.localize(x))\n",
    "    df['UTC'] = df['Central'].apply(lambda x: pytz.utc.normalize(x))\n",
    "    return df"
   ]
  },
  {
   "cell_type": "code",
   "execution_count": 111,
   "metadata": {},
   "outputs": [],
   "source": [
    "grouped_wind.rename(columns={'HOUR_BEGINNING':'dt'}, inplace=True)"
   ]
  },
  {
   "cell_type": "code",
   "execution_count": 112,
   "metadata": {},
   "outputs": [],
   "source": [
    "grouped_wind = get_utc(grouped_wind)"
   ]
  },
  {
   "cell_type": "code",
   "execution_count": 113,
   "metadata": {},
   "outputs": [],
   "source": [
    "grouped_wind['date'] = grouped_wind['UTC'].dt.date\n",
    "grouped_wind['hr_beg'] = grouped_wind['UTC'].dt.hour"
   ]
  },
  {
   "cell_type": "code",
   "execution_count": 115,
   "metadata": {},
   "outputs": [],
   "source": [
    "grouped_wind.drop(columns=['Central','UTC','dt'], inplace=True)"
   ]
  },
  {
   "cell_type": "code",
   "execution_count": 118,
   "metadata": {},
   "outputs": [],
   "source": [
    "#dealing with NANs\n",
    "#ok, only keeping actual_system_wide, I guess...\n",
    "grouped_wind = grouped_wind[['date','hr_beg','ACTUAL_SYSTEM_WIDE','STWPF_SYSTEM_WIDE']]"
   ]
  },
  {
   "cell_type": "code",
   "execution_count": 127,
   "metadata": {},
   "outputs": [],
   "source": [
    "grouped_wind = grouped_wind[grouped_wind['date']<datetime.date(2019,1,1)]"
   ]
  },
  {
   "cell_type": "code",
   "execution_count": 129,
   "metadata": {},
   "outputs": [],
   "source": [
    "grouped_wind.fillna(method='bfill',axis=0, inplace=True)"
   ]
  },
  {
   "cell_type": "code",
   "execution_count": 132,
   "metadata": {},
   "outputs": [],
   "source": [
    "grouped_wind.to_csv('wind.csv', index=False)"
   ]
  },
  {
   "cell_type": "markdown",
   "metadata": {},
   "source": [
    "Seems like we actually care about actual and STWPF (short-term wind power forecast), less WGRPP (wind gen resource power potential) or COP HSL (current operating plan high sustainable limit) http://www.ercot.com/glossary/h"
   ]
  },
  {
   "cell_type": "code",
   "execution_count": null,
   "metadata": {},
   "outputs": [],
   "source": []
  }
 ],
 "metadata": {
  "kernelspec": {
   "display_name": "Python 3.7.3 64-bit ('base': conda)",
   "language": "python",
   "name": "python37364bitbaseconda588607f9a8224136a0eb124c124b5350"
  },
  "language_info": {
   "codemirror_mode": {
    "name": "ipython",
    "version": 3
   },
   "file_extension": ".py",
   "mimetype": "text/x-python",
   "name": "python",
   "nbconvert_exporter": "python",
   "pygments_lexer": "ipython3",
   "version": "3.7.3"
  }
 },
 "nbformat": 4,
 "nbformat_minor": 4
}
