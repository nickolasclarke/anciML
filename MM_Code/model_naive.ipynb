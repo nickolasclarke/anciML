{
 "cells": [
  {
   "cell_type": "markdown",
   "metadata": {},
   "source": [
    "### Naive/persistence model\n",
    "Assumes each day's day prices predict the next in the same hour"
   ]
  },
  {
   "cell_type": "code",
   "execution_count": 60,
   "metadata": {},
   "outputs": [],
   "source": [
    "import json\n",
    "import csv\n",
    "import pandas as pd\n",
    "pd.set_option('display.max_columns', 500)\n",
    "pd.options.mode.chained_assignment = None  # default='warn'\n",
    "import numpy as np\n",
    "import geopandas as gpd\n",
    "import shapely\n",
    "from shapely.geometry import Point, MultiPoint, Polygon, MultiPolygon\n",
    "from shapely.affinity import scale\n",
    "import matplotlib.pyplot as plt\n",
    "import glob\n",
    "import os\n",
    "import datetime\n",
    "import pytz\n",
    "from pytz import timezone"
   ]
  },
  {
   "cell_type": "code",
   "execution_count": 61,
   "metadata": {},
   "outputs": [],
   "source": [
    "#Loading AS price data; downselecting to reg down prices\n",
    "prices = pd.read_csv(\"../data/AS_price_vol.csv\")\n",
    "price = prices[['date','hr_beg','price_DAH_REGDN']]"
   ]
  },
  {
   "cell_type": "code",
   "execution_count": 63,
   "metadata": {},
   "outputs": [],
   "source": [
    "#Lagging by 24 hours\n",
    "price_24 = price['price_DAH_REGDN'].shift(24)\n",
    "df = pd.concat([price,price_24], axis=1)\n",
    "df.columns = ['date','hr_beg','price','price_24']"
   ]
  },
  {
   "cell_type": "code",
   "execution_count": 67,
   "metadata": {},
   "outputs": [],
   "source": [
    "df.dropna(inplace=True)\n",
    "df.reset_index(drop=True,inplace=True)"
   ]
  },
  {
   "cell_type": "code",
   "execution_count": 69,
   "metadata": {},
   "outputs": [],
   "source": [
    "#Downselecting to 2018\n",
    "df['year'] = pd.to_datetime(df['date']).dt.year\n",
    "df_2018 = df[df['year']==2018]"
   ]
  },
  {
   "cell_type": "code",
   "execution_count": 72,
   "metadata": {},
   "outputs": [],
   "source": [
    "#Calculating number of spikes captured in 2018\n",
    "spike = np.mean(df['price'][df['year']<2018]) + np.std(df['price'][df['year']<2018])\n",
    "df_2018['Actual spike'] = df_2018['price'] >= spike\n",
    "df_2018['Predicted spike'] = df_2018['price_24'] >= spike\n",
    "df_2018['Both spike'] = (df_2018['price'] >= spike) & (df_2018['price_24'] >= spike)\n",
    "df_2018['Neither spike'] = (df_2018['price'] < spike) & (df_2018['price_24'] < spike)"
   ]
  },
  {
   "cell_type": "code",
   "execution_count": 81,
   "metadata": {},
   "outputs": [
    {
     "name": "stdout",
     "output_type": "stream",
     "text": [
      "Spikes correctly predicted, 2018: 0.5407407407407407\n",
      "Overall hours correctly predicted, 2018: 0.9718229523157654\n"
     ]
    }
   ],
   "source": [
    "spikes_correct = sum(df_2018['Both spike']) / sum(df_2018['Actual spike'])\n",
    "overall_correct = (sum(df_2018['Both spike']) + sum(df_2018['Neither spike'])) / len(df_2018)\n",
    "print(\"Spikes correctly predicted, 2018: \" + str(spikes_correct))\n",
    "print(\"Overall hours correctly predicted, 2018: \" + str(overall_correct))"
   ]
  },
  {
   "cell_type": "code",
   "execution_count": 82,
   "metadata": {},
   "outputs": [],
   "source": [
    "#Calculating number of spikes captured, 2008-2017\n",
    "df['Actual spike'] = df['price'] >= spike\n",
    "df['Predicted spike'] = df['price_24'] >= spike\n",
    "df['Both spike'] = (df['price'] >= spike) & (df['price_24'] >= spike)\n",
    "df['Neither spike'] = (df['price'] < spike) & (df['price_24'] < spike)"
   ]
  },
  {
   "cell_type": "code",
   "execution_count": 83,
   "metadata": {},
   "outputs": [
    {
     "name": "stdout",
     "output_type": "stream",
     "text": [
      "Spikes correctly predicted, 2018: 0.6701503221188261\n",
      "Overall hours correctly predicted, 2018: 0.95222108240853\n"
     ]
    }
   ],
   "source": [
    "spikes_correct = sum(df['Both spike']) / sum(df['Actual spike'])\n",
    "overall_correct = (sum(df['Both spike']) + sum(df['Neither spike'])) / len(df)\n",
    "print(\"Spikes correctly predicted, 2018: \" + str(spikes_correct))\n",
    "print(\"Overall hours correctly predicted, 2018: \" + str(overall_correct))"
   ]
  },
  {
   "cell_type": "code",
   "execution_count": null,
   "metadata": {},
   "outputs": [],
   "source": []
  }
 ],
 "metadata": {
  "kernelspec": {
   "display_name": "Python 3.7.3 64-bit ('base': conda)",
   "language": "python",
   "name": "python37364bitbaseconda588607f9a8224136a0eb124c124b5350"
  },
  "language_info": {
   "codemirror_mode": {
    "name": "ipython",
    "version": 3
   },
   "file_extension": ".py",
   "mimetype": "text/x-python",
   "name": "python",
   "nbconvert_exporter": "python",
   "pygments_lexer": "ipython3",
   "version": "3.7.3"
  }
 },
 "nbformat": 4,
 "nbformat_minor": 4
}
