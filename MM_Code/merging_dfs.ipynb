{
 "cells": [
  {
   "cell_type": "code",
   "execution_count": null,
   "metadata": {},
   "outputs": [],
   "source": [
    "import json\n",
    "import csv\n",
    "import pandas as pd\n",
    "pd.options.mode.chained_assignment = None  # default='warn'\n",
    "pd.set_option('display.max_columns', 500)\n",
    "import numpy as np\n",
    "np.seterr(divide='ignore', invalid='ignore')\n",
    "import geopandas as gpd\n",
    "import shapely\n",
    "from shapely.geometry import Point, MultiPoint, Polygon, MultiPolygon\n",
    "from shapely.affinity import scale\n",
    "import matplotlib.pyplot as plt\n",
    "import glob\n",
    "import os\n",
    "import datetime"
   ]
  },
  {
   "cell_type": "code",
   "execution_count": null,
   "metadata": {},
   "outputs": [],
   "source": [
    "bids = pd.read_csv(\"../data/as_bids_v2.csv\")\n",
    "prices = pd.read_csv(\"../data/AS_price_vol.csv\")\n",
    "plan = pd.read_csv(\"../data/as_plan.csv\")\n",
    "energy = pd.read_csv(\"../data/energy_price.csv\")\n",
    "weather = pd.read_csv(\"../data/weather_forecast_ercot.csv\")\n",
    "gen = pd.read_csv(\"../data/generation.csv\")\n",
    "wind = pd.read_csv(\"../data/wind.csv\")"
   ]
  },
  {
   "cell_type": "code",
   "execution_count": null,
   "metadata": {},
   "outputs": [],
   "source": [
    "#bit more data cleaning\n",
    "#generation\n",
    "gen['hr_beg'] = gen['hr_beg'].apply(lambda x: x[0:2]) \n",
    "gen.drop(columns=['Imports','Other','ST'], inplace=True)\n",
    "\n",
    "gen['year'] = pd.to_datetime(gen['date']).dt.year\n",
    "gen = gen.loc[gen['year']>2011,:]\n",
    "gen.reset_index(inplace=True, drop=True)\n",
    "gen.drop(columns=['year'], inplace=True)\n",
    "\n",
    "#energy\n",
    "energy.drop_duplicates(subset=['date','hr_beg'], inplace=True)"
   ]
  },
  {
   "cell_type": "code",
   "execution_count": null,
   "metadata": {},
   "outputs": [],
   "source": [
    "data_frames = [bids, prices, plan, energy, weather, gen, wind]\n",
    "\n",
    "for i,df in enumerate(data_frames):\n",
    "    df['date'] = pd.to_datetime(df['date']).dt.date\n",
    "    df['hr_beg'] = df['hr_beg'].astype(int)\n",
    "    df.sort_values(by=['date','hr_beg'], inplace=True)\n",
    "    df.drop_duplicates(inplace=True)\n",
    "    #df.set_index(keys=['date','hr_beg'], inplace=True)\n",
    "    "
   ]
  },
  {
   "cell_type": "code",
   "execution_count": null,
   "metadata": {},
   "outputs": [],
   "source": [
    "#ugly merge, but loop fails me\n",
    "union = prices.merge(bids, how='inner', on=['date','hr_beg'])\n",
    "union = union.merge(plan, how='inner', on=['date','hr_beg'])\n",
    "union = union.merge(weather, how='inner', on=['date','hr_beg'])\n",
    "union = union.merge(gen, how='inner', on=['date','hr_beg'])\n",
    "union = union.merge(energy, how='inner', on=['date','hr_beg'])\n",
    "union = union.merge(wind, how='inner', on=['date','hr_beg'])"
   ]
  },
  {
   "cell_type": "code",
   "execution_count": null,
   "metadata": {},
   "outputs": [],
   "source": [
    "#dealing with NAs\n",
    "union.fillna(method='bfill',axis=0, inplace=True)"
   ]
  },
  {
   "cell_type": "code",
   "execution_count": null,
   "metadata": {},
   "outputs": [],
   "source": [
    "union.sort_values(by=['date','hr_beg'], inplace=True)"
   ]
  }
 ],
 "metadata": {
  "kernelspec": {
   "display_name": "Python 3.7.3 64-bit ('anaconda3': conda)",
   "language": "python",
   "name": "python37364bitanaconda3conda8fba8905054a4b41b7ebea2c37433b4e"
  },
  "language_info": {
   "codemirror_mode": {
    "name": "ipython",
    "version": 3
   },
   "file_extension": ".py",
   "mimetype": "text/x-python",
   "name": "python",
   "nbconvert_exporter": "python",
   "pygments_lexer": "ipython3",
   "version": "3.7.3"
  }
 },
 "nbformat": 4,
 "nbformat_minor": 4
}
